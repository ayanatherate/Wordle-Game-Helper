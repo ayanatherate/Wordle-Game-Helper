{
 "cells": [
  {
   "cell_type": "code",
   "execution_count": 2,
   "id": "cd4506d8",
   "metadata": {},
   "outputs": [],
   "source": [
    "import pandas as pd\n",
    "import numpy as np\n",
    "import random"
   ]
  },
  {
   "cell_type": "code",
   "execution_count": 3,
   "id": "64e9e0e4",
   "metadata": {},
   "outputs": [],
   "source": [
    "data=pd.read_csv(r\"C:\\Users\\User\\Desktop\\Wordle.txt\")"
   ]
  },
  {
   "cell_type": "code",
   "execution_count": 4,
   "id": "99a44eec",
   "metadata": {},
   "outputs": [],
   "source": [
    "#data=data[~data['which'].str.contains(\"s\")]\n",
    "#data"
   ]
  },
  {
   "cell_type": "code",
   "execution_count": 5,
   "id": "d2287184",
   "metadata": {},
   "outputs": [],
   "source": [
    "word_list=[]\n",
    "list_words=[]\n",
    "data_words=[]\n",
    "#data_words=[data['which'][i] for i in range(len(data))]\n",
    "clean_data_words=[]\n",
    "\n",
    "\n",
    "for i in range(len(data)):\n",
    "    m=list(data['which'][i])\n",
    "    for i in m:\n",
    "        if not m[-1]=='s':\n",
    "            data_words.append(m)\n",
    "\n",
    "\n",
    "k=[]\n",
    "for i in range(len(data)):\n",
    "    m=list(data['which'][i])\n",
    "    word_list.append(m)\n",
    "    list_words.append(word_list)\n",
    "    \n",
    "for i in range(len(data_words)):\n",
    "    word=''.join(data_words[i])\n",
    "    if word in clean_data_words:\n",
    "        pass\n",
    "    else:\n",
    "        clean_data_words.append(word)\n",
    "        \n",
    "        \n",
    "        \n",
    "        \n"
   ]
  },
  {
   "cell_type": "code",
   "execution_count": 6,
   "id": "bbf9d8c8",
   "metadata": {},
   "outputs": [
    {
     "data": {
      "text/plain": [
       "['h', 'a', 'p', 'a', 'x']"
      ]
     },
     "execution_count": 6,
     "metadata": {},
     "output_type": "execute_result"
    }
   ],
   "source": [
    "go_first=random.choice(data_words)\n",
    "\n",
    "go_first"
   ]
  },
  {
   "cell_type": "code",
   "execution_count": 7,
   "id": "ffd0ca47",
   "metadata": {},
   "outputs": [],
   "source": [
    "\n",
    "def wordle_game():\n",
    "    \n",
    "                \n",
    "    go_first=random.choice(clean_data_words)\n",
    "    print(\"let's start the game. You can start with this word  \"+go_first)\n",
    "    a=int(input(' 1 to continue, 0 to stop'))\n",
    "    if a==1:\n",
    "        print(guess_matches())\n",
    "    \n",
    "        \n",
    "    "
   ]
  },
  {
   "cell_type": "code",
   "execution_count": 8,
   "id": "41bb194b",
   "metadata": {},
   "outputs": [],
   "source": [
    "def input_letters():\n",
    "    a1,b1=input(\"if you matched with something, type the letter and the position, space-separated\").split(' ')\n",
    "    a2,b2=input(\"For the machine's help, enter a word that did not match with anything (including position)\").split(' ')\n",
    "    b1=int(b1)\n",
    "    b2=int(b2)\n",
    "    flag_str='s'\n",
    "    for i in range(len(list_words)):\n",
    "        for j in word_list[i]:\n",
    "            if word_list[i][b1]==a1 and word_list[i][b2]!=a2:\n",
    "                answer=''.join(word_list[i])\n",
    "                print(answer)\n",
    "                if flag_str!=answer:\n",
    "                    print(\"This is one suggestion we can provide. You should guess which one it is among these wisely!\")\n",
    "                    print(answer)\n",
    "                    flag_str=answer"
   ]
  },
  {
   "cell_type": "code",
   "execution_count": 9,
   "id": "60021a60",
   "metadata": {},
   "outputs": [],
   "source": [
    "def guess_matches():\n",
    "    t=[]\n",
    "    final=0\n",
    "    no_quant=1\n",
    "    while final!=5:\n",
    "        ans=input(\"Did you match with something? (Y/N)\")\n",
    "        if ans=='Y':\n",
    "            print(input_letters())\n",
    "            final+=1\n",
    "        elif ans=='N' and no_quant<2:\n",
    "            go_again=random.choice(clean_data_words)\n",
    "            print(\"Here you can try again with this word \"+go_again)\n",
    "            no_quant+=1\n",
    "            continue\n",
    "        elif ans=='N' and no_quant==2:\n",
    "            pair_1, pair1_2=input(\"Input space separated characters and numbers of a word that didn't match with anything\").split(' ')\n",
    "            pair_2, pair2_2=input(\"Input space separated characters and numbers of another word that didn't match with anything\").split(' ')\n",
    "            pair_3, pair3_2=input(\"Input space separated characters and numbers of another word that didn't match with anything\").split(' ')\n",
    "            \n",
    "            pair1_2=int(pair1_2)\n",
    "            pair2_2=int(pair2_2)\n",
    "            pair3_2=int(pair3_2)\n",
    "            flag_str='s'\n",
    "            for i in range(len(list_words)):\n",
    "                for j in word_list[i]:\n",
    "                    if word_list[i][pair1_2]!=pair_1 and word_list[i][pair2_2]!=pair_2 and  word_list[i][pair3_2]!=pair_3: \n",
    "                        answer=''.join(word_list[i])\n",
    "                        if flag_str!=answer:\n",
    "                            print(\"This is one suggestion we can provide. You should guess which one it is among these wisely!\")\n",
    "                            print(answer)\n",
    "                            flag_str=answer\n",
    "        elif final==5:\n",
    "            print(\"That's all the help I can provide you for now! You should guess yourself now else the game would be no fun!\")\n",
    "           \n",
    "    \n",
    "    \n",
    "    \n",
    "    \n",
    "                "
   ]
  },
  {
   "cell_type": "code",
   "execution_count": null,
   "id": "c8df8083",
   "metadata": {},
   "outputs": [
    {
     "name": "stdout",
     "output_type": "stream",
     "text": [
      "let's start the game. You can start with this word  betel\n"
     ]
    }
   ],
   "source": [
    "wordle_game()"
   ]
  },
  {
   "cell_type": "code",
   "execution_count": null,
   "id": "40478e51",
   "metadata": {},
   "outputs": [],
   "source": []
  },
  {
   "cell_type": "code",
   "execution_count": null,
   "id": "0cff0097",
   "metadata": {},
   "outputs": [],
   "source": []
  },
  {
   "cell_type": "code",
   "execution_count": null,
   "id": "07af3907",
   "metadata": {},
   "outputs": [],
   "source": []
  }
 ],
 "metadata": {
  "kernelspec": {
   "display_name": "Python 3 (ipykernel)",
   "language": "python",
   "name": "python3"
  },
  "language_info": {
   "codemirror_mode": {
    "name": "ipython",
    "version": 3
   },
   "file_extension": ".py",
   "mimetype": "text/x-python",
   "name": "python",
   "nbconvert_exporter": "python",
   "pygments_lexer": "ipython3",
   "version": "3.9.7"
  }
 },
 "nbformat": 4,
 "nbformat_minor": 5
}
